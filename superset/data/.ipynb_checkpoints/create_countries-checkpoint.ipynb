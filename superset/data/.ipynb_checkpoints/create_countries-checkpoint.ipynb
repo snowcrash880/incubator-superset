{
 "cells": [
  {
   "cell_type": "code",
   "execution_count": 1,
   "metadata": {},
   "outputs": [],
   "source": [
    "import json\n",
    "import pandas as pd"
   ]
  },
  {
   "cell_type": "code",
   "execution_count": 2,
   "metadata": {},
   "outputs": [],
   "source": [
    "coord = pd.read_csv('./shape013_polygons.csv', \n",
    "            header = None, \n",
    "            index_col = 0)\n",
    "\n",
    "coord.columns = ['latitude_min', 'latitude_max', \n",
    "                     'longitude_min', 'longitude_max', \n",
    "                     'code', 'source', 'STAT_LEVL']\n",
    "\n",
    "coord[\"lat_avg\"] = (coord.latitude_max+coord.latitude_min)/2\n",
    "\n",
    "coord[\"lgt_avg\"] = (coord.longitude_max+coord.longitude_min)/2\n",
    "\n",
    "coord['code'] = coord.code.apply(lambda x : x.split('.')[2])\n",
    "\n",
    "coord = coord[['code', 'lat_avg', 'lgt_avg']]\n",
    "\n",
    "coordinates_dict = coord.set_index('code').to_dict()"
   ]
  },
  {
   "cell_type": "code",
   "execution_count": 3,
   "metadata": {},
   "outputs": [],
   "source": [
    "with open('./NUTS_RG_60M_2016_4326.json', 'rb') as f:\n",
    "    nuts3 = json.load(f)"
   ]
  },
  {
   "cell_type": "code",
   "execution_count": 4,
   "metadata": {},
   "outputs": [],
   "source": [
    "countries = [\n",
    "    {'name': j['properties']['NUTS_NAME'], \n",
    "     'cca2':j['properties']['NUTS_ID'], \n",
    "     'lat':coordinates_dict['lat_avg'].get(j['properties']['NUTS_ID']), \n",
    "     'lng':coordinates_dict['lgt_avg'].get(j['properties']['NUTS_ID']),\n",
    "     'cca3': j['properties']['NUTS_ID'],\n",
    "     'cioc': j['properties']['NUTS_ID'],\n",
    "    } for j in nuts3['objects']['NUTS_RG_60M_2016_4326']['geometries'] \n",
    "    if coordinates_dict['lat_avg'].get(j['properties']['NUTS_ID'], 'null') is not 'null'\n",
    "                                       ]"
   ]
  },
  {
   "cell_type": "code",
   "execution_count": 5,
   "metadata": {},
   "outputs": [],
   "source": [
    "with open('countries.json', 'w') as f:\n",
    "    json.dump(countries, f)"
   ]
  }
 ],
 "metadata": {
  "kernelspec": {
   "display_name": "Python 3",
   "language": "python",
   "name": "python3"
  },
  "language_info": {
   "codemirror_mode": {
    "name": "ipython",
    "version": 3
   },
   "file_extension": ".py",
   "mimetype": "text/x-python",
   "name": "python",
   "nbconvert_exporter": "python",
   "pygments_lexer": "ipython3",
   "version": "3.6.6"
  },
  "toc": {
   "base_numbering": 1,
   "nav_menu": {},
   "number_sections": true,
   "sideBar": true,
   "skip_h1_title": false,
   "title_cell": "Table of Contents",
   "title_sidebar": "Contents",
   "toc_cell": false,
   "toc_position": {},
   "toc_section_display": true,
   "toc_window_display": false
  },
  "varInspector": {
   "cols": {
    "lenName": 16,
    "lenType": 16,
    "lenVar": 40
   },
   "kernels_config": {
    "python": {
     "delete_cmd_postfix": "",
     "delete_cmd_prefix": "del ",
     "library": "var_list.py",
     "varRefreshCmd": "print(var_dic_list())"
    },
    "r": {
     "delete_cmd_postfix": ") ",
     "delete_cmd_prefix": "rm(",
     "library": "var_list.r",
     "varRefreshCmd": "cat(var_dic_list()) "
    }
   },
   "types_to_exclude": [
    "module",
    "function",
    "builtin_function_or_method",
    "instance",
    "_Feature"
   ],
   "window_display": false
  }
 },
 "nbformat": 4,
 "nbformat_minor": 2
}
